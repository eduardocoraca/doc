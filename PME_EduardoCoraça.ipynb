{
  "nbformat": 4,
  "nbformat_minor": 0,
  "metadata": {
    "colab": {
      "name": "PME_EduardoCoraça.ipynb",
      "provenance": [],
      "collapsed_sections": [],
      "authorship_tag": "ABX9TyOdJ6YEH/94eR1rVbeKb/LI",
      "include_colab_link": true
    },
    "kernelspec": {
      "name": "python3",
      "display_name": "Python 3"
    },
    "language_info": {
      "name": "python"
    }
  },
  "cells": [
    {
      "cell_type": "markdown",
      "metadata": {
        "id": "view-in-github",
        "colab_type": "text"
      },
      "source": [
        "<a href=\"https://colab.research.google.com/github/eduardocoraca/doc/blob/main/PME_EduardoCora%C3%A7a.ipynb\" target=\"_parent\"><img src=\"https://colab.research.google.com/assets/colab-badge.svg\" alt=\"Open In Colab\"/></a>"
      ]
    },
    {
      "cell_type": "code",
      "metadata": {
        "id": "Pjjag5jK69zm"
      },
      "source": [
        "import numpy as np\n",
        "import scipy.integrate\n",
        "from scipy.integrate import simps\n",
        "import matplotlib.pyplot as plt"
      ],
      "execution_count": 1,
      "outputs": []
    },
    {
      "cell_type": "markdown",
      "metadata": {
        "id": "nzvXG5TV2dlq"
      },
      "source": [
        "# Funções auxiliares"
      ]
    },
    {
      "cell_type": "code",
      "metadata": {
        "id": "0PILFjx98t4a"
      },
      "source": [
        "def max_entropia(mu, phi_x, x_max, x_min):\n",
        "  # funções auxiliares\n",
        "  def p_lnp(input):\n",
        "    # cálculo de p(x)*ln(p(x))\n",
        "    return p_x(input)*np.log(1e-5 + p_x(input))\n",
        "\n",
        "  def p_x(input):\n",
        "    # cálculo de p(x)\n",
        "    return np.exp(-np.matmul(l,phi_x(input)))\n",
        "\n",
        "  def phi_p(input):\n",
        "    # produto phi_n(x)*p(x)\n",
        "    return phi_x(input)*p_x(input)\n",
        "\n",
        "  def gnk_x(input):\n",
        "    gnk = np.zeros((N+1,N+1))\n",
        "    for n in range(N+1):\n",
        "      for k in range(N+1):\n",
        "        gnk[n,k] = phi_x(input)[n]*phi_x(input)[k]*p_x(input)\n",
        "    return gnk\n",
        "\n",
        "  def gn_Gnk_p(x_min, x_max):\n",
        "    # l: vetor de N+1 multiplicadores lambda_n\n",
        "    N = len(l) - 1 # determinando a quantidade de multiplicadores (N)\n",
        "    Gn = scipy.integrate.quad_vec(phi_p, x_min, x_max, epsabs=0)[0]\n",
        "    gnk = -scipy.integrate.quad_vec(gnk_x, x_min, x_max,epsabs=0)[0]\n",
        "    return Gn, gnk\n",
        "\n",
        "  # determinando N\n",
        "  N = len(mu) - 1\n",
        "\n",
        "  # inicialização\n",
        "  l = 0.1*np.ones(N+1)\n",
        "  eps = 1e-3   # criterio de parada\n",
        "\n",
        "  # loop principal\n",
        "  iterar = True\n",
        "  it = 1  # contador de iterações\n",
        "  h = []  # lista com as entropias por iteração\n",
        "  \n",
        "  while iterar == True:\n",
        "    gn, Gnk = gn_Gnk_p(x_min, x_max)  # calculo do vetor g[n] e a matriz G[n,k]\n",
        "    v = mu - gn   # calculo do vetor v\n",
        "    delta = np.linalg.solve(Gnk,v)  # calculo de delta\n",
        "    l = l + delta   # atualização de lambda\n",
        "    h.append(-scipy.integrate.quad_vec(p_lnp, x_min, x_max, epsabs=0)[0])  # armazena a entropia da iteração\n",
        "    print(f'Iteração: {it}, max(delta) = {np.abs(delta).max()}')\n",
        "    it +=1 \n",
        "    if np.abs(delta).max() < eps:\n",
        "      iterar = False\n",
        "\n",
        "  # criando uma lista com os valores de x para plotar\n",
        "  x_min_plot = x_min\n",
        "  x_max_plot = x_max\n",
        "  if x_max == np.inf:\n",
        "    x_max_plot = 1e2\n",
        "  if x_min == -np.inf:\n",
        "    x_min_plot = -1e2 \n",
        "  dx = 1e-2\n",
        "  x = np.arange(x_min_plot, x_max_plot, dx)\n",
        "\n",
        "  # montando uma lista de valores p(x)\n",
        "  p = list(map(lambda x: p_x(x), x))\n",
        "  return l, p, h, x"
      ],
      "execution_count": 2,
      "outputs": []
    },
    {
      "cell_type": "markdown",
      "metadata": {
        "id": "0HmTXRdx2hnF"
      },
      "source": [
        "# Exemplos"
      ]
    },
    {
      "cell_type": "markdown",
      "metadata": {
        "id": "3JJtd58l8UuN"
      },
      "source": [
        "## Exemplo 1"
      ]
    },
    {
      "cell_type": "code",
      "metadata": {
        "id": "cIsTDOL48V2f"
      },
      "source": [
        "def phi_x(input):\n",
        "  return np.array([1])"
      ],
      "execution_count": 3,
      "outputs": []
    },
    {
      "cell_type": "code",
      "metadata": {
        "colab": {
          "base_uri": "https://localhost:8080/"
        },
        "id": "ll0bkvC58c9H",
        "outputId": "c9d3fc9b-3d57-434c-c0e8-01c82925bae4"
      },
      "source": [
        "x_min = 0\n",
        "x_max = 2\n",
        "\n",
        "l,p,h,x = max_entropia(mu = [1],\n",
        "                     phi_x = phi_x,\n",
        "                     x_min = x_min,\n",
        "                     x_max = x_max)\n",
        "\n",
        "print(f'Entropia: {h[-1]:.4f}')\n",
        "print(f'Lambda: {l}')"
      ],
      "execution_count": 4,
      "outputs": [
        {
          "output_type": "stream",
          "text": [
            "Iteração: 1, max(delta) = 0.4474145409621762\n",
            "Iteração: 2, max(delta) = 0.1356112243758091\n",
            "Iteração: 3, max(delta) = 0.010070366073956342\n",
            "Iteração: 4, max(delta) = 5.104784501808382e-05\n",
            "Entropia: 0.6931\n",
            "Lambda: [0.69314718]\n"
          ],
          "name": "stdout"
        }
      ]
    },
    {
      "cell_type": "code",
      "metadata": {
        "colab": {
          "base_uri": "https://localhost:8080/",
          "height": 284
        },
        "id": "F-wBE04n8hgt",
        "outputId": "5913d9be-f538-4775-e346-ab6b3ef40e47"
      },
      "source": [
        "plt.plot(x, p, 'k')\n",
        "plt.ylabel('p(x)', fontsize=16);\n",
        "plt.xlabel('x', fontsize=16);"
      ],
      "execution_count": 5,
      "outputs": [
        {
          "output_type": "display_data",
          "data": {
            "image/png": "[encoded data removed]",
            "text/plain": [
              "<Figure size 432x288 with 1 Axes>"
            ]
          },
          "metadata": {
            "tags": [],
            "needs_background": "light"
          }
        }
      ]
    },
    {
      "cell_type": "markdown",
      "metadata": {
        "id": "3_9LViyBQKWj"
      },
      "source": [
        "## Exemplo 2"
      ]
    },
    {
      "cell_type": "code",
      "metadata": {
        "id": "k4q4pfKhQJ9E"
      },
      "source": [
        "def phi_x(input):\n",
        "  return np.array([1, input])"
      ],
      "execution_count": 6,
      "outputs": []
    },
    {
      "cell_type": "code",
      "metadata": {
        "colab": {
          "base_uri": "https://localhost:8080/"
        },
        "id": "qmaITDyAREYc",
        "outputId": "85b6e5ac-0515-486b-86d8-ecba819619b3"
      },
      "source": [
        "x_min = 0\n",
        "x_max = 10\n",
        "\n",
        "l,p,h,x = max_entropia(mu = [1, 2],\n",
        "                     phi_x = phi_x,\n",
        "                     x_min = x_min,\n",
        "                     x_max = x_max)\n",
        "\n",
        "print(f'Entropia: {h[-1]:.4f}')\n",
        "print(f'Lambda: {l}')"
      ],
      "execution_count": 7,
      "outputs": [
        {
          "output_type": "stream",
          "text": [
            "Iteração: 1, max(delta) = 0.6242945103480034\n",
            "Iteração: 2, max(delta) = 0.2409270718626499\n",
            "Iteração: 3, max(delta) = 0.12666297579131122\n",
            "Iteração: 4, max(delta) = 0.11290716235127124\n",
            "Iteração: 5, max(delta) = 0.026227512097531457\n",
            "Iteração: 6, max(delta) = 0.0013331230185227197\n",
            "Iteração: 7, max(delta) = 3.7630017666701158e-06\n",
            "Entropia: 1.6856\n",
            "Lambda: [0.72550385 0.48010075]\n"
          ],
          "name": "stdout"
        }
      ]
    },
    {
      "cell_type": "code",
      "metadata": {
        "colab": {
          "base_uri": "https://localhost:8080/",
          "height": 285
        },
        "id": "qlp9M_aYRQiq",
        "outputId": "27b5f0ac-b41a-4e62-f992-7ba4fb0512e9"
      },
      "source": [
        "plt.plot(x, p, 'k')\n",
        "plt.ylabel('p(x)', fontsize=16);\n",
        "plt.xlabel('x', fontsize=16);"
      ],
      "execution_count": 8,
      "outputs": [
        {
          "output_type": "display_data",
          "data": {
            "image/png": "[encoded data removed]",
            "text/plain": [
              "<Figure size 432x288 with 1 Axes>"
            ]
          },
          "metadata": {
            "tags": [],
            "needs_background": "light"
          }
        }
      ]
    },
    {
      "cell_type": "markdown",
      "metadata": {
        "id": "T78d6DHORbF_"
      },
      "source": [
        "## Exemplo 3"
      ]
    },
    {
      "cell_type": "code",
      "metadata": {
        "id": "_w85zaLXRaTN"
      },
      "source": [
        "def phi_x(input):\n",
        "  return np.array([1, input, input**2])"
      ],
      "execution_count": 9,
      "outputs": []
    },
    {
      "cell_type": "code",
      "metadata": {
        "colab": {
          "base_uri": "https://localhost:8080/"
        },
        "id": "m_TEhkgrRmQY",
        "outputId": "38ce9a15-769f-4f2c-b435-8c4dadcc6588"
      },
      "source": [
        "x_min = 0\n",
        "x_max = 10\n",
        "\n",
        "l,p,h,x = max_entropia(mu = [1, 1, 3],\n",
        "                     phi_x = phi_x,\n",
        "                     x_min = x_min,\n",
        "                     x_max = x_max)\n",
        "\n",
        "print(f'Entropia: {h[-1]:.4f}')\n",
        "print(f'Lambda: {l}')"
      ],
      "execution_count": 10,
      "outputs": [
        {
          "output_type": "stream",
          "text": [
            "Iteração: 1, max(delta) = 0.8868301317426659\n",
            "Iteração: 2, max(delta) = 0.3357958663927572\n",
            "Iteração: 3, max(delta) = 0.1777274201722426\n",
            "Iteração: 4, max(delta) = 0.028456253094417322\n",
            "Iteração: 5, max(delta) = 0.0005979737624490253\n",
            "Entropia: 0.9347\n",
            "Lambda: [-0.28755738  1.52940765 -0.10235709]\n"
          ],
          "name": "stdout"
        }
      ]
    },
    {
      "cell_type": "code",
      "metadata": {
        "colab": {
          "base_uri": "https://localhost:8080/",
          "height": 284
        },
        "id": "aR37WsmYRpyy",
        "outputId": "7e43389c-3c1f-40df-e688-9e5748b50665"
      },
      "source": [
        "plt.plot(x, p, 'k')\n",
        "plt.ylabel('p(x)', fontsize=16);\n",
        "plt.xlabel('x', fontsize=16);"
      ],
      "execution_count": 11,
      "outputs": [
        {
          "output_type": "display_data",
          "data": {
            "image/png": "[encoded data removed]",
            "text/plain": [
              "<Figure size 432x288 with 1 Axes>"
            ]
          },
          "metadata": {
            "tags": [],
            "needs_background": "light"
          }
        }
      ]
    },
    {
      "cell_type": "markdown",
      "metadata": {
        "id": "kEhufYRnRySX"
      },
      "source": [
        "## Exemplo 4"
      ]
    },
    {
      "cell_type": "code",
      "metadata": {
        "id": "80NPhlQ4Ry7f"
      },
      "source": [
        "def phi_x(input):\n",
        "  return np.array([1, input])"
      ],
      "execution_count": 12,
      "outputs": []
    },
    {
      "cell_type": "code",
      "metadata": {
        "colab": {
          "base_uri": "https://localhost:8080/"
        },
        "id": "oNAr7GdKR1Tx",
        "outputId": "4daf966e-8294-4113-d8dc-e141102ed613"
      },
      "source": [
        "x_min = 0\n",
        "x_max = np.inf\n",
        "\n",
        "l,p,h,x = max_entropia(mu = [1, 2],\n",
        "                     phi_x = phi_x,\n",
        "                     x_min = x_min,\n",
        "                     x_max = x_max)\n",
        "\n",
        "print(f'Entropia: {h[-1]:.4f}')\n",
        "print(f'Lambda: {l}')"
      ],
      "execution_count": 13,
      "outputs": [
        {
          "output_type": "stream",
          "text": [
            "Iteração: 1, max(delta) = 0.8010692347463834\n",
            "Iteração: 2, max(delta) = 0.5223515204292389\n",
            "Iteração: 3, max(delta) = 0.05301190349052884\n",
            "Iteração: 4, max(delta) = 0.3152520303312221\n",
            "Iteração: 5, max(delta) = 0.28094266003120283\n",
            "Iteração: 6, max(delta) = 0.14285030236919807\n",
            "Iteração: 7, max(delta) = 0.03897256697448007\n",
            "Iteração: 8, max(delta) = 0.0030326861770897232\n",
            "Iteração: 9, max(delta) = 2.054592461568245e-05\n",
            "Entropia: 1.6929\n",
            "Lambda: [0.69314718 0.5       ]\n"
          ],
          "name": "stdout"
        }
      ]
    },
    {
      "cell_type": "code",
      "metadata": {
        "colab": {
          "base_uri": "https://localhost:8080/",
          "height": 284
        },
        "id": "HH4QZzJdR8c3",
        "outputId": "15688751-2ad0-44bb-e041-6258536d48ce"
      },
      "source": [
        "plt.plot(x, p, 'k')\n",
        "plt.ylabel('p(x)', fontsize=16);\n",
        "plt.xlabel('x', fontsize=16);\n",
        "plt.xlim([0,20]);"
      ],
      "execution_count": 14,
      "outputs": [
        {
          "output_type": "display_data",
          "data": {
            "image/png": "[encoded data removed]",
            "text/plain": [
              "<Figure size 432x288 with 1 Axes>"
            ]
          },
          "metadata": {
            "tags": [],
            "needs_background": "light"
          }
        }
      ]
    },
    {
      "cell_type": "markdown",
      "metadata": {
        "id": "beZGDOVZSgov"
      },
      "source": [
        "## Exemplo 5"
      ]
    },
    {
      "cell_type": "code",
      "metadata": {
        "id": "-3HZRJBZSgDZ"
      },
      "source": [
        "def phi_x(input):\n",
        "  return np.array([1, input, input**2])"
      ],
      "execution_count": 15,
      "outputs": []
    },
    {
      "cell_type": "code",
      "metadata": {
        "colab": {
          "base_uri": "https://localhost:8080/"
        },
        "id": "OCAe_qZ5SkKR",
        "outputId": "e76af1df-cd41-4322-c6fc-5440a4717f88"
      },
      "source": [
        "x_min = -np.inf\n",
        "x_max = np.inf\n",
        "\n",
        "l,p,h,x = max_entropia(mu = [1, 1, 2],\n",
        "                     phi_x = phi_x,\n",
        "                     x_min = x_min,\n",
        "                     x_max = x_max)\n",
        "\n",
        "print(f'Entropia: {h[-1]:.4f}')\n",
        "print(f'Lambda: {l}')"
      ],
      "execution_count": 16,
      "outputs": [
        {
          "output_type": "stream",
          "text": [
            "Iteração: 1, max(delta) = 0.7468747124079042\n",
            "Iteração: 2, max(delta) = 0.44873822147145864\n",
            "Iteração: 3, max(delta) = 0.1711882352973894\n",
            "Iteração: 4, max(delta) = 0.2429299742030543\n",
            "Iteração: 5, max(delta) = 0.2694338781526777\n",
            "Iteração: 6, max(delta) = 0.1953531980570056\n",
            "Iteração: 7, max(delta) = 0.06293618959239443\n",
            "Iteração: 8, max(delta) = 0.004680992952311505\n",
            "Iteração: 9, max(delta) = 2.3495425718118423e-05\n",
            "Entropia: 1.4188\n",
            "Lambda: [ 1.41893853 -1.          0.5       ]\n"
          ],
          "name": "stdout"
        }
      ]
    },
    {
      "cell_type": "code",
      "metadata": {
        "colab": {
          "base_uri": "https://localhost:8080/",
          "height": 284
        },
        "id": "txKwAp4BUfsW",
        "outputId": "4d86c334-bf1e-43a9-e2aa-2422526b480b"
      },
      "source": [
        "plt.plot(x, p, 'k')\n",
        "plt.ylabel('p(x)', fontsize=16);\n",
        "plt.xlabel('x', fontsize=16);\n",
        "plt.xticks(np.arange(-10,10,1))\n",
        "plt.xlim([-5,8]);\n"
      ],
      "execution_count": 17,
      "outputs": [
        {
          "output_type": "display_data",
          "data": {
            "image/png": "[encoded data removed]",
            "text/plain": [
              "<Figure size 432x288 with 1 Axes>"
            ]
          },
          "metadata": {
            "tags": [],
            "needs_background": "light"
          }
        }
      ]
    },
    {
      "cell_type": "markdown",
      "metadata": {
        "id": "BADdeWCVVAqB"
      },
      "source": [
        "## Exemplo 6"
      ]
    },
    {
      "cell_type": "code",
      "metadata": {
        "id": "Oa300cKUVBd3"
      },
      "source": [
        "def phi_x(input):\n",
        "  return np.array([1, input, np.log(input+1e-5)])"
      ],
      "execution_count": 18,
      "outputs": []
    },
    {
      "cell_type": "code",
      "metadata": {
        "colab": {
          "base_uri": "https://localhost:8080/"
        },
        "id": "z6cluCVaVMzA",
        "outputId": "7e961ef8-f7f9-40da-e755-20fd6257fdd4"
      },
      "source": [
        "x_min = 0\n",
        "x_max = np.inf\n",
        "\n",
        "l,p,h,x = max_entropia(mu = [1, 3, 1],\n",
        "                     phi_x = phi_x,\n",
        "                     x_min = x_min,\n",
        "                     x_max = x_max)\n",
        "\n",
        "print(f'Entropia: {h[-1]:.4f}')\n",
        "print(f'Lambda: {l}')"
      ],
      "execution_count": 19,
      "outputs": [
        {
          "output_type": "stream",
          "text": [
            "Iteração: 1, max(delta) = 0.8021441376601275\n",
            "Iteração: 2, max(delta) = 0.5388395568921048\n",
            "Iteração: 3, max(delta) = 0.19439043421051647\n",
            "Iteração: 4, max(delta) = 0.447598011626052\n",
            "Iteração: 5, max(delta) = 0.7422488207411999\n",
            "Iteração: 6, max(delta) = 1.0105430620188547\n",
            "Iteração: 7, max(delta) = 1.0475057308306241\n",
            "Iteração: 8, max(delta) = 0.6466598195716553\n",
            "Iteração: 9, max(delta) = 0.15369751713548738\n",
            "Iteração: 10, max(delta) = 0.0066050389910026555\n",
            "Iteração: 11, max(delta) = 1.1550892580691504e-05\n",
            "Entropia: 1.6233\n",
            "Lambda: [ 0.62342452  1.74371041 -4.23114867]\n"
          ],
          "name": "stdout"
        }
      ]
    },
    {
      "cell_type": "code",
      "metadata": {
        "colab": {
          "base_uri": "https://localhost:8080/",
          "height": 284
        },
        "id": "wjD870OQVnqd",
        "outputId": "411dfbaa-ce05-4501-ae31-0a50a34d4a55"
      },
      "source": [
        "plt.plot(x, p, 'k')\n",
        "plt.ylabel('p(x)', fontsize=16);\n",
        "plt.xlabel('x', fontsize=16);\n",
        "plt.xlim([0,10]);\n",
        "plt.savefig('ex6.eps', format='eps')"
      ],
      "execution_count": 20,
      "outputs": [
        {
          "output_type": "display_data",
          "data": {
            "image/png": "[encoded data removed]",
            "text/plain": [
              "<Figure size 432x288 with 1 Axes>"
            ]
          },
          "metadata": {
            "tags": [],
            "needs_background": "light"
          }
        }
      ]
    }
  ]
}